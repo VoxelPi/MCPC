{
 "cells": [
  {
   "cell_type": "code",
   "execution_count": null,
   "id": "d5cea863",
   "metadata": {},
   "outputs": [],
   "source": [
    "import numpy as np\n",
    "import pathlib\n",
    "\n",
    "import mcpc8\n",
    "import mcasm8\n",
    "\n",
    "input_filename = r\"programs\\program.mcasm\"\n",
    "output_filename = r\"output\\program.mcbin\"\n",
    "\n",
    "input_filepath = pathlib.Path(input_filename)\n",
    "output_filepath = pathlib.Path(output_filename)\n",
    "\n",
    "print(f\"Assembling '{input_filepath.resolve()}' -> '{output_filepath.resolve()}'\")"
   ]
  },
  {
   "cell_type": "markdown",
   "id": "ea51c5f6",
   "metadata": {},
   "source": [
    "## Load the instruction lines"
   ]
  },
  {
   "cell_type": "markdown",
   "id": "0345d152",
   "metadata": {},
   "source": [
    "### Macros\n",
    "\n",
    "Define additional macros"
   ]
  },
  {
   "cell_type": "code",
   "execution_count": null,
   "id": "41850b1d",
   "metadata": {},
   "outputs": [],
   "source": [
    "default_macro_symbols: dict[str, str] = {\n",
    "    \"goto\": \"jump\"\n",
    "}"
   ]
  },
  {
   "cell_type": "markdown",
   "id": "32c13120",
   "metadata": {},
   "source": [
    "### Read the src lines\n",
    "\n",
    "Load all lines from the specified input file"
   ]
  },
  {
   "cell_type": "code",
   "execution_count": null,
   "id": "184bf799",
   "metadata": {},
   "outputs": [],
   "source": [
    "# Read input lines\n",
    "with open(input_filepath, \"r\") as input_file:\n",
    "    src_lines = input_file.readlines()\n",
    "src_lines = [line.strip() for line in src_lines]\n",
    "print(f\"Loaded {len(src_lines)} lines from source file:\")"
   ]
  },
  {
   "cell_type": "markdown",
   "id": "9e97b856",
   "metadata": {},
   "source": [
    "## Assemble the Program"
   ]
  },
  {
   "cell_type": "code",
   "execution_count": null,
   "id": "3bc6d7e2",
   "metadata": {},
   "outputs": [],
   "source": [
    "program = mcasm8.assemble(src_lines, default_macro_symbols)\n",
    "\n",
    "print(f\"Defined {len(program.labels)} labels:\")\n",
    "print(\"\\n\".join([f\"'{id}': instruction {line:03d} in line {program.src_mapping[line]}\" for id, line in program.labels.items()]))\n",
    "print(f\"\\nAssembled {program.n_instructions} instructions:\")\n",
    "print(\"\\n\".join([f\"{i:03}: {line}\" for i, line in enumerate(program.instructions)]))"
   ]
  },
  {
   "cell_type": "markdown",
   "id": "fb2a104f",
   "metadata": {},
   "source": [
    "## Create binary\n",
    "\n",
    "Take the created program binary, pad it with 0s to the program memory size."
   ]
  },
  {
   "cell_type": "code",
   "execution_count": null,
   "id": "c95fe750",
   "metadata": {},
   "outputs": [],
   "source": [
    "memory = np.zeros(mcpc8.PROGRAM_MEMORY_SIZE, dtype=np.uint16)\n",
    "memory[0:program.n_instructions] = program.binary[0:program.n_instructions]\n",
    "memory"
   ]
  },
  {
   "cell_type": "markdown",
   "id": "e6c6d632",
   "metadata": {},
   "source": [
    "## Write output file\n",
    "\n",
    "Writes the final binary to the output file."
   ]
  },
  {
   "cell_type": "code",
   "execution_count": null,
   "id": "0d3d7f92",
   "metadata": {},
   "outputs": [],
   "source": [
    "with open(output_filepath, \"wb\") as output_file:\n",
    "    memory.tofile(output_file, \"\")"
   ]
  }
 ],
 "metadata": {
  "kernelspec": {
   "display_name": "base",
   "language": "python",
   "name": "python3"
  },
  "language_info": {
   "codemirror_mode": {
    "name": "ipython",
    "version": 3
   },
   "file_extension": ".py",
   "mimetype": "text/x-python",
   "name": "python",
   "nbconvert_exporter": "python",
   "pygments_lexer": "ipython3",
   "version": "3.12.7"
  }
 },
 "nbformat": 4,
 "nbformat_minor": 5
}
