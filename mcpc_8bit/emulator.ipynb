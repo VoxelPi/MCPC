{
 "cells": [
  {
   "cell_type": "code",
   "execution_count": null,
   "id": "0bb90565",
   "metadata": {},
   "outputs": [],
   "source": [
    "import numpy as np\n",
    "import pathlib\n",
    "\n",
    "import mcpc\n",
    "import mcemulator\n",
    "import mcasm\n",
    "\n",
    "input_filepath = pathlib.Path(r\"programs\\program.mcasm\")\n",
    "\n",
    "print(f\"Executing '{input_filepath.resolve()}'\")"
   ]
  },
  {
   "cell_type": "markdown",
   "id": "17298382",
   "metadata": {},
   "source": [
    "## Assemble the program"
   ]
  },
  {
   "cell_type": "code",
   "execution_count": null,
   "id": "78553ca8",
   "metadata": {},
   "outputs": [],
   "source": [
    "with open(input_filepath, \"r\") as src_file:\n",
    "    try:\n",
    "        program = mcasm.assemble(src_file.readlines())\n",
    "    except Exception as exception:\n",
    "        print(f\"Failed to assemble the program: {exception}\")\n",
    "        raise exception\n",
    "    \n",
    "print(f\"Assembled the program '{input_filepath.stem}'\")\n",
    "print(f\"  ├ {len(program.instructions)} instructions\")\n",
    "print(f\"  └ {len(program.labels)} labels\")"
   ]
  },
  {
   "cell_type": "markdown",
   "id": "855f38e2",
   "metadata": {},
   "source": [
    "## Run the program"
   ]
  },
  {
   "cell_type": "code",
   "execution_count": null,
   "id": "01e65bad",
   "metadata": {},
   "outputs": [],
   "source": [
    "emulator = mcemulator.Emulator()\n",
    "emulator.load_program(program.binary)"
   ]
  },
  {
   "cell_type": "code",
   "execution_count": null,
   "id": "b7858c62",
   "metadata": {},
   "outputs": [],
   "source": [
    "emulator.execute_instructions()"
   ]
  },
  {
   "cell_type": "code",
   "execution_count": null,
   "id": "f9205918",
   "metadata": {},
   "outputs": [],
   "source": [
    "print(f\"EXECUTING INSTRUCTION {emulator.pc}: {program.instructions[emulator.pc] if emulator.pc < len(program.instructions) else \"EOF, jump\"}\")\n",
    "emulator.execute_instruction()\n",
    "\n",
    "print(f\"\\nREGISTERS post instruction:\")\n",
    "print(f\"PC: {emulator.registers[0]:3d}\")\n",
    "for i in range(1, 8):\n",
    "    print(f\"R{i}: {emulator.registers[i]:3d}\")"
   ]
  },
  {
   "cell_type": "code",
   "execution_count": null,
   "id": "c30466c1",
   "metadata": {},
   "outputs": [],
   "source": [
    "emulator.memory"
   ]
  }
 ],
 "metadata": {
  "kernelspec": {
   "display_name": "base",
   "language": "python",
   "name": "python3"
  },
  "language_info": {
   "codemirror_mode": {
    "name": "ipython",
    "version": 3
   },
   "file_extension": ".py",
   "mimetype": "text/x-python",
   "name": "python",
   "nbconvert_exporter": "python",
   "pygments_lexer": "ipython3",
   "version": "3.12.7"
  }
 },
 "nbformat": 4,
 "nbformat_minor": 5
}
