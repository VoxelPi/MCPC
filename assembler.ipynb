{
 "cells": [
  {
   "cell_type": "code",
   "execution_count": null,
   "id": "d5cea863",
   "metadata": {},
   "outputs": [],
   "source": [
    "from enum import Enum\n",
    "import numpy as np\n",
    "import pathlib\n",
    "\n",
    "input_filename = r\"programs\\fiboancci.mcasm\"\n",
    "output_filename = r\"output\\fibonacci\"\n",
    "\n",
    "input_filepath = pathlib.Path(input_filename)\n",
    "output_filepath = pathlib.Path(input_filepath.stem if (output_filename is None) else output_filename)\n",
    "\n",
    "print(f\"Assembling '{input_filepath.resolve()}' -> '{output_filepath.resolve()}'\")"
   ]
  },
  {
   "cell_type": "markdown",
   "id": "1d92db87",
   "metadata": {},
   "source": [
    "### Instruction codes"
   ]
  },
  {
   "cell_type": "code",
   "execution_count": null,
   "id": "3bc23716",
   "metadata": {},
   "outputs": [],
   "source": [
    "class InstructionType(Enum):\n",
    "    LOAD = 0b0000_0000_0000_0000\n",
    "    EXEC = 0b1000_0000_0000_0000\n",
    "\n",
    "class Register(Enum):\n",
    "    PC = 0\n",
    "    R1 = 1\n",
    "    R2 = 2\n",
    "    R3 = 3\n",
    "    R4 = 4\n",
    "    R5 = 5\n",
    "    R6 = 6\n",
    "    R7 = 7\n",
    "\n",
    "class Operation(Enum):\n",
    "    CLEAR = 0\n",
    "    FILL = 1\n",
    "    AND = 2\n",
    "    NAND = 3\n",
    "    OR = 4\n",
    "    NOR = 5\n",
    "    XOR = 6\n",
    "    XNOR = 7\n",
    "    INC = 8\n",
    "    DEC = 9\n",
    "    ADD = 10\n",
    "    SUB = 11\n",
    "    SHL = 12\n",
    "    SHR = 13\n",
    "    ROL = 14\n",
    "    ROR = 15\n",
    "\n",
    "class Condition(Enum):\n",
    "    ALWAYS = 0\n",
    "    NEVER = 1\n",
    "    EQUAL = 2\n",
    "    NOT_EQUAL = 3\n",
    "    GREATER = 4\n",
    "    LESS = 5\n",
    "    GREATER_OR_EQUAL = 6\n",
    "    LESS_OR_EQUAL = 7\n",
    "\n",
    "def opcode_load_instruction(relative: bool, condition: Condition, output_register: Register, value: int) -> np.uint16:\n",
    "    return np.uint16(InstructionType.LOAD.value | ((1 if relative else 0) << 14) | (condition.value << 11) | (output_register.value << 8) | (value & 0xFF))\n",
    "\n",
    "def opcode_exec_instruction(input_a_reg: Register, input_b_reg: Register, output_reg: Register, operation: Operation) -> np.uint16:\n",
    "    return np.uint16(InstructionType.EXEC.value | operation.value | (input_a_reg.value << 6) | (input_b_reg.value << 9) | (output_reg.value << 12))"
   ]
  },
  {
   "cell_type": "markdown",
   "id": "ea51c5f6",
   "metadata": {},
   "source": [
    "## Load the instruction lines"
   ]
  },
  {
   "cell_type": "markdown",
   "id": "32c13120",
   "metadata": {},
   "source": [
    "### Read the src lines\n",
    "\n",
    "Load all lines from the specified input file"
   ]
  },
  {
   "cell_type": "code",
   "execution_count": null,
   "id": "184bf799",
   "metadata": {},
   "outputs": [],
   "source": [
    "# Read input lines\n",
    "with open(input_filepath) as input_file:\n",
    "    src_lines = input_file.readlines()\n",
    "src_lines = [line.strip() for line in src_lines]\n",
    "print(f\"Loaded {len(src_lines)} lines from source file:\")\n",
    "print(\"\\n\".join(src_lines))"
   ]
  },
  {
   "cell_type": "markdown",
   "id": "8659034d",
   "metadata": {},
   "source": [
    "### Get the code lines\n",
    "This removes all comments, empty lines and multiple whitespace.\n",
    "This still contains labels"
   ]
  },
  {
   "cell_type": "code",
   "execution_count": null,
   "id": "2646ef0a",
   "metadata": {},
   "outputs": [],
   "source": [
    "# Remove comments\n",
    "code_lines = np.array([line.split('#', 1)[0].strip() for line in src_lines])\n",
    "\n",
    "# Remove empty lines\n",
    "src_to_code_line = np.roll(np.cumsum(code_lines != \"\"), 1)\n",
    "src_to_code_line[0] = 0\n",
    "code_line_mapping: list[int] = np.zeros(np.max(src_to_code_line) + 1).tolist()\n",
    "for i, line in enumerate(src_to_code_line):\n",
    "    code_line_mapping[line] = i\n",
    "code_lines = code_lines[code_line_mapping]\n",
    "\n",
    "# Remove multiple whitespace\n",
    "code_lines = [\" \".join(line.split()) for line in code_lines]\n",
    "\n",
    "print(f\"Loaded {len(code_lines)} lines of code:\")\n",
    "print(\"\\n\".join(code_lines))"
   ]
  },
  {
   "cell_type": "markdown",
   "id": "cd76e36d",
   "metadata": {},
   "source": [
    "### Get the instruction lines\n",
    "\n",
    "This does index all instructions. Additionally all labels are registered and not contained in the resulting list."
   ]
  },
  {
   "cell_type": "code",
   "execution_count": null,
   "id": "cc1e10a0",
   "metadata": {},
   "outputs": [],
   "source": [
    "instruction_lines: list[str] = []\n",
    "instruction_mapping: list[int] = []\n",
    "labels: dict[str, int] = {}\n",
    "\n",
    "for i_code_line, line in enumerate(code_lines):\n",
    "    i_src_line = code_line_mapping[i_code_line]\n",
    "    if line.startswith(\"@\"):\n",
    "        label_id = line[1:]\n",
    "        if label_id in labels:\n",
    "            raise Exception(f\"Trying to declare used label '{label_id}' in line {i_src_line+1}.\\nPreviously declared in line {instruction_mapping[labels[label_id]]+1-1}\")\n",
    "\n",
    "        labels[label_id] = len(instruction_lines)\n",
    "        continue\n",
    "\n",
    "    instruction_lines.append(line)\n",
    "    instruction_mapping.append(i_src_line)\n",
    "n_instructions = len(instruction_lines)\n",
    "\n",
    "# Replace used labels\n",
    "instructions_text = \"\\n\".join(instruction_lines)\n",
    "for label, instruction_id in labels.items():\n",
    "    instructions_text = instructions_text.replace(f\"@{label}\", f\"{instruction_id}\")\n",
    "instruction_lines = instructions_text.split(\"\\n\")\n",
    "\n",
    "print(f\"Loaded {n_instructions} instructions:\")\n",
    "print(\"\\n\".join([f\"{i:03d}: {line}\" for i, line in enumerate(instruction_lines)]))"
   ]
  },
  {
   "cell_type": "code",
   "execution_count": null,
   "id": "9bcc6721",
   "metadata": {},
   "outputs": [],
   "source": [
    "print(f\"Defined {len(labels)} labels:\")\n",
    "print(\"\\n\".join([f\"'{id}': instruction {line:03d} in line {instruction_mapping[line]}\" for id, line in labels.items()]))"
   ]
  },
  {
   "cell_type": "markdown",
   "id": "9e97b856",
   "metadata": {},
   "source": [
    "## Parse the instructions"
   ]
  },
  {
   "cell_type": "code",
   "execution_count": null,
   "id": "b77a0dcb",
   "metadata": {},
   "outputs": [],
   "source": [
    "def parse_register(text: str) -> bool:\n",
    "    if len(text) != 2:\n",
    "        return False\n",
    "    \n",
    "    text = text.upper()\n",
    "    if text == \"PC\":\n",
    "        return Register.PC\n",
    "    if text[0] == \"R\" and text[1].isdigit() and (int(text[1]) in range(8)):\n",
    "        return list(Register)[int(text[1])]\n",
    "    return None\n",
    "    \n",
    "def is_register_id(text: str) -> Register | None:\n",
    "    if len(text) != 2:\n",
    "        return None\n",
    "    \n",
    "    text = text.upper()\n",
    "    if text == \"PC\":\n",
    "        return True\n",
    "    if text[0] == \"R\" and text[1].isdigit() and (int(text[1]) in range(8)):\n",
    "        return True\n",
    "    return False\n",
    "\n",
    "def int_or_none(text: str) -> int | None:\n",
    "    try:\n",
    "        return int(text, 0)\n",
    "    except ValueError:\n",
    "        return None"
   ]
  },
  {
   "cell_type": "code",
   "execution_count": null,
   "id": "3bc6d7e2",
   "metadata": {},
   "outputs": [],
   "source": [
    "instructions = np.zeros(n_instructions, dtype=np.uint16)\n",
    "for i_instruction, instruction_text in enumerate(instruction_lines):\n",
    "    i_src_line = instruction_mapping[i_instruction]\n",
    "    src_line = src_lines[i_src_line]\n",
    "    instruction_text = instruction_text.lower()\n",
    "    instruction_parts = instruction_text.split(\" \")\n",
    "    n_instruction_parts = len(instruction_parts)\n",
    "    try:\n",
    "\n",
    "        # NOP\n",
    "        if instruction_text == 'nop':\n",
    "            instructions[i_instruction] = opcode_exec_instruction(Register.R1, Register.R1, Register.R1, Operation.AND)\n",
    "            continue\n",
    "\n",
    "        # Assignments\n",
    "        if n_instruction_parts >= 2 and is_register_id(instruction_parts[0]) and instruction_parts[1] == \"=\":\n",
    "            output_register = parse_register(instruction_parts[0])\n",
    "            if n_instruction_parts == 3:\n",
    "                if is_register_id(instruction_parts[2]):\n",
    "                    input_register = parse_register(instruction_parts[2])\n",
    "                    instructions[i_instruction] = opcode_exec_instruction(input_register, input_register, output_register, Operation.AND)\n",
    "                    continue\n",
    "\n",
    "                value = int_or_none(instruction_parts[2])\n",
    "                if value is not None:\n",
    "                    instructions[i_instruction] = opcode_load_instruction(False, Condition.ALWAYS, output_register, value)\n",
    "                    continue\n",
    "\n",
    "                raise Exception(f\"Failed to parse line {i_src_line}: Invalid syntax for load value: '{instruction_parts[2]}'\")\n",
    "\n",
    "            raise Exception(f\"Failed to parse line {i_src_line}: Invalid syntax for load: '{src_line}'\")\n",
    "\n",
    "        # CLEAR\n",
    "        if instruction_parts[0] == \"clear\":\n",
    "            if len(instruction_parts) != 2:\n",
    "                raise Exception(f\"Failed to parse line {i_src_line}: Invalid arguments, syntax: 'clear R[0:8]|PC'\")\n",
    "            \n",
    "            output_register = parse_register(instruction_parts[1])\n",
    "            if output_register == None:\n",
    "                raise Exception(f\"Failed to parse line {i_src_line}: Invalid register '{instruction_parts[1]}'\")\n",
    "            \n",
    "            instructions[i_instruction] = opcode_exec_instruction(Register.R1, Register.R1, output_register, Operation.CLEAR)\n",
    "            continue\n",
    "    except Exception as exception:\n",
    "        print(f\"Exception whilst parsing line {i_src_line}: '{src_line}'\")\n",
    "        raise exception\n",
    "\n",
    "    print(f\"Failed to parse line {i_src_line}: '{src_line}'\")"
   ]
  }
 ],
 "metadata": {
  "kernelspec": {
   "display_name": "base",
   "language": "python",
   "name": "python3"
  },
  "language_info": {
   "codemirror_mode": {
    "name": "ipython",
    "version": 3
   },
   "file_extension": ".py",
   "mimetype": "text/x-python",
   "name": "python",
   "nbconvert_exporter": "python",
   "pygments_lexer": "ipython3",
   "version": "3.12.7"
  }
 },
 "nbformat": 4,
 "nbformat_minor": 5
}
